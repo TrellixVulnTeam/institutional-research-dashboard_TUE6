{
 "cells": [
  {
   "cell_type": "code",
   "execution_count": 19,
   "metadata": {
    "collapsed": true
   },
   "outputs": [],
   "source": [
    "import requests\n",
    "from bs4 import BeautifulSoup"
   ]
  },
  {
   "cell_type": "code",
   "execution_count": 20,
   "metadata": {
    "collapsed": true
   },
   "outputs": [],
   "source": [
    "url = \"https://itouch.cycu.edu.tw/\""
   ]
  },
  {
   "cell_type": "code",
   "execution_count": 21,
   "metadata": {
    "collapsed": true
   },
   "outputs": [],
   "source": [
    "request_headers = {\n",
    "    'User-Agent':'Mozilla/5.0 (Windows NT 10.0; Win64; x64) '\\\n",
    "                 'AppleWebKit/537.36 (KHTML, like Gecko) '\\\n",
    "                 'Chrome/61.0.3163.100 Safari/537.36',\n",
    "    'Cookie':'JSESSIONID=5479D52EB3C194DC5746774527EC9FED; '\\\n",
    "             'NSC_jupvdi.dzdv.fev.ux*80=ffffffff8f8f5a5c455'\\\n",
    "             '25d5f4f58455e445a4a4229a0; '\\\n",
    "             '_ga=GA1.3.1135552035.1509698694; '\\\n",
    "             '_gid=GA1.3.673096519.1509698694; _gat_itouch=1'\n",
    "}"
   ]
  },
  {
   "cell_type": "code",
   "execution_count": 22,
   "metadata": {
    "collapsed": false
   },
   "outputs": [],
   "source": [
    "res = requests.get(url, headers=request_headers)"
   ]
  },
  {
   "cell_type": "code",
   "execution_count": 23,
   "metadata": {
    "collapsed": false
   },
   "outputs": [
    {
     "data": {
      "text/plain": [
       "<Response [200]>"
      ]
     },
     "execution_count": 23,
     "metadata": {},
     "output_type": "execute_result"
    }
   ],
   "source": [
    "res"
   ]
  },
  {
   "cell_type": "code",
   "execution_count": 24,
   "metadata": {
    "collapsed": true
   },
   "outputs": [],
   "source": [
    "soup = BeautifulSoup(res.text, 'html.parser')"
   ]
  },
  {
   "cell_type": "code",
   "execution_count": 25,
   "metadata": {
    "collapsed": false
   },
   "outputs": [
    {
     "data": {
      "text/plain": [
       "\n",
       "<html>\n",
       "<head>\n",
       "<link href=\"favicon.ico\" rel=\"shortcut icon\" type=\"image/x-icon\"/>\n",
       "<meta content=\"IE=Edge,chrome=1\" http-equiv=\"X-UA-Compatible\">\n",
       "<title>中原e點靈_e18</title>\n",
       "<meta content=\"text/html; charset=utf-8\" http-equiv=\"Content-Type\">\n",
       "<meta content=\"0\" http-equiv=\"Expires\">\n",
       "<meta content=\"no-cache\" http-equiv=\"Pragma\">\n",
       "<meta content=\"no-cache\" http-equiv=\"Cache-Control\">\n",
       "</meta></meta></meta></meta></meta></head>\n",
       "<frameset border=\"0\" frameborder=\"NO\" framespacing=\"0\" rows=\"0,*\">\n",
       "<frame name=\"QQQ\" scrolling=\"NO\" src=\"index_top.jsp\">\n",
       "<frame name=\"global\" scrolling=\"auto\" src=\"/index3.jsp?type=all\">\n",
       "</frame></frame></frameset>\n",
       "</html>"
      ]
     },
     "execution_count": 25,
     "metadata": {},
     "output_type": "execute_result"
    }
   ],
   "source": [
    "soup"
   ]
  },
  {
   "cell_type": "code",
   "execution_count": null,
   "metadata": {
    "collapsed": true
   },
   "outputs": [],
   "source": []
  }
 ],
 "metadata": {
  "kernelspec": {
   "display_name": "Python 3",
   "language": "python",
   "name": "python3"
  },
  "language_info": {
   "codemirror_mode": {
    "name": "ipython",
    "version": 3
   },
   "file_extension": ".py",
   "mimetype": "text/x-python",
   "name": "python",
   "nbconvert_exporter": "python",
   "pygments_lexer": "ipython3",
   "version": "3.6.0"
  }
 },
 "nbformat": 4,
 "nbformat_minor": 2
}
