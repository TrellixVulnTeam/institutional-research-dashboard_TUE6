{
 "cells": [
  {
   "cell_type": "markdown",
   "metadata": {},
   "source": [
    "# Data Visualization\n",
    "#### This notebook uses fake data to generate chart."
   ]
  },
  {
   "cell_type": "markdown",
   "metadata": {},
   "source": [
    "## Bokeh"
   ]
  },
  {
   "cell_type": "markdown",
   "metadata": {},
   "source": [
    "Bokeh is a Python interactive visualization library that targets modern web browsers for presentation.\n",
    "\n",
    "https://bokeh.pydata.org/en/latest/"
   ]
  },
  {
   "cell_type": "markdown",
   "metadata": {},
   "source": [
    "**Tutorial**\n",
    "\n",
    "http://blog.infographics.tw/2016/04/interactive-visualization-with-bokeh-and-python/"
   ]
  },
  {
   "cell_type": "code",
   "execution_count": 2,
   "metadata": {},
   "outputs": [
    {
     "name": "stdout",
     "output_type": "stream",
     "text": [
      "Python 3.6.3\r\n"
     ]
    }
   ],
   "source": [
    "!python -V"
   ]
  },
  {
   "cell_type": "code",
   "execution_count": 3,
   "metadata": {},
   "outputs": [
    {
     "name": "stdout",
     "output_type": "stream",
     "text": [
      "Collecting bokeh\n",
      "  Downloading bokeh-0.12.10.tar.gz (15.7MB)\n",
      "\u001b[K    100% |████████████████████████████████| 15.7MB 104kB/s ta 0:00:011\n",
      "\u001b[?25hRequirement already satisfied: six>=1.5.2 in /Users/huangyue-lun/.pyenv/versions/3.6.3/lib/python3.6/site-packages (from bokeh)\n",
      "Collecting PyYAML>=3.10 (from bokeh)\n",
      "  Downloading PyYAML-3.12.tar.gz (253kB)\n",
      "\u001b[K    100% |████████████████████████████████| 256kB 3.8MB/s eta 0:00:01\n",
      "\u001b[?25hRequirement already satisfied: python-dateutil>=2.1 in /Users/huangyue-lun/.pyenv/versions/3.6.3/lib/python3.6/site-packages (from bokeh)\n",
      "Requirement already satisfied: Jinja2>=2.7 in /Users/huangyue-lun/.pyenv/versions/3.6.3/lib/python3.6/site-packages (from bokeh)\n",
      "Requirement already satisfied: numpy>=1.7.1 in /Users/huangyue-lun/.pyenv/versions/3.6.3/lib/python3.6/site-packages (from bokeh)\n",
      "Requirement already satisfied: tornado>=4.3 in /Users/huangyue-lun/.pyenv/versions/3.6.3/lib/python3.6/site-packages (from bokeh)\n",
      "Requirement already satisfied: MarkupSafe>=0.23 in /Users/huangyue-lun/.pyenv/versions/3.6.3/lib/python3.6/site-packages (from Jinja2>=2.7->bokeh)\n",
      "Installing collected packages: PyYAML, bokeh\n",
      "  Running setup.py install for PyYAML ... \u001b[?25ldone\n",
      "\u001b[?25h  Running setup.py install for bokeh ... \u001b[?25ldone\n",
      "\u001b[?25hSuccessfully installed PyYAML-3.12 bokeh-0.12.10\n"
     ]
    }
   ],
   "source": [
    "!pip install bokeh"
   ]
  },
  {
   "cell_type": "code",
   "execution_count": 5,
   "metadata": {},
   "outputs": [
    {
     "name": "stdout",
     "output_type": "stream",
     "text": [
      "Name: bokeh\r\n",
      "Version: 0.12.10\r\n",
      "Summary: Interactive plots and applications in the browser from Python\r\n",
      "Home-page: http://github.com/bokeh/bokeh\r\n",
      "Author: Anaconda\r\n",
      "Author-email: info@anaconda.com\r\n",
      "License: New BSD\r\n",
      "Location: /Users/huangyue-lun/.pyenv/versions/3.6.3/lib/python3.6/site-packages\r\n",
      "Requires: six, PyYAML, python-dateutil, Jinja2, numpy, tornado\r\n"
     ]
    }
   ],
   "source": [
    "!pip show bokeh\n",
    "\n",
    "# Version: 0.12.10"
   ]
  },
  {
   "cell_type": "code",
   "execution_count": 6,
   "metadata": {},
   "outputs": [],
   "source": [
    "import bokeh"
   ]
  },
  {
   "cell_type": "code",
   "execution_count": 7,
   "metadata": {},
   "outputs": [],
   "source": [
    "from bokeh.plotting import figure, output_file, show\n",
    "\n",
    "output_file(\"out.html\")\n",
    "\n",
    "p = figure()\n",
    "p.line([1,2,3,4,5],[5,4,3,2,1])\n",
    "\n",
    "show(p)"
   ]
  },
  {
   "cell_type": "markdown",
   "metadata": {},
   "source": [
    "1. bokeh.model：製作圖表的基本元素，例如軸線、形狀等等。用來打造各種元件。\n",
    "2. bokeh.plotting：為我們處理掉一些基本細節（例如格點與軸線），但保留客製化的彈性。\n",
    "3. bokeh.charts：直接使用各種完整圖表，例如長條圖、盒鬚圖等等。\n",
    "    * **[Deprecated](https://bokeh.github.io/blog/2017/6/13/release-0-12-6/)**\n",
    "    * bokeh.charts.Bar：長條圖\n",
    "    * bokeh.charts.BoxPlot：盒鬚圖\n",
    "    * bokeh.charts.HeatMap：熱圖\n",
    "    * bokeh.charts.Donut：甜甜圈圖"
   ]
  },
  {
   "cell_type": "code",
   "execution_count": 8,
   "metadata": {},
   "outputs": [],
   "source": [
    "# boekh.charts is deprecated\n",
    "\n",
    "# from bokeh.charts import Donut, show, output_file\n",
    "\n",
    "# output_file('donut.html')\n",
    "# donut = Donut([[2., 5., 3.], [4., 1., 4.], [6., 4., 3.]], ['cpu1', 'cpu2', 'cpu3'])\n",
    "\n",
    "# show(donut)"
   ]
  },
  {
   "cell_type": "markdown",
   "metadata": {
    "collapsed": true
   },
   "source": [
    "---"
   ]
  },
  {
   "cell_type": "markdown",
   "metadata": {},
   "source": [
    "## Faker"
   ]
  },
  {
   "cell_type": "markdown",
   "metadata": {},
   "source": [
    "Faker is a Python package that generates fake data for you.\n",
    "\n",
    "https://github.com/joke2k/faker"
   ]
  },
  {
   "cell_type": "code",
   "execution_count": 9,
   "metadata": {},
   "outputs": [
    {
     "name": "stdout",
     "output_type": "stream",
     "text": [
      "Collecting Faker\n",
      "  Downloading Faker-0.8.7-py2.py3-none-any.whl (691kB)\n",
      "\u001b[K    100% |████████████████████████████████| 696kB 475kB/s ta 0:00:01\n",
      "\u001b[?25hRequirement already satisfied: six in /Users/huangyue-lun/.pyenv/versions/3.6.3/lib/python3.6/site-packages (from Faker)\n",
      "Collecting text-unidecode (from Faker)\n",
      "  Downloading text_unidecode-1.1-py2.py3-none-any.whl (77kB)\n",
      "\u001b[K    100% |████████████████████████████████| 81kB 576kB/s ta 0:00:011\n",
      "\u001b[?25hRequirement already satisfied: python-dateutil>=2.4 in /Users/huangyue-lun/.pyenv/versions/3.6.3/lib/python3.6/site-packages (from Faker)\n",
      "Installing collected packages: text-unidecode, Faker\n",
      "Successfully installed Faker-0.8.7 text-unidecode-1.1\n"
     ]
    }
   ],
   "source": [
    "!pip install Faker"
   ]
  },
  {
   "cell_type": "code",
   "execution_count": 10,
   "metadata": {},
   "outputs": [
    {
     "data": {
      "text/plain": [
       "'Cum aperiam officia vero. Voluptas amet nostrum vitae accusantium.'"
      ]
     },
     "execution_count": 10,
     "metadata": {},
     "output_type": "execute_result"
    }
   ],
   "source": [
    "from faker import Faker\n",
    "fake = Faker()\n",
    "\n",
    "fake.name()\n",
    "# 'Lucy Cechtelar'\n",
    "\n",
    "fake.address()\n",
    "# \"426 Jordy Lodge\n",
    "#  Cartwrightshire, SC 88120-6700\"\n",
    "\n",
    "fake.text()\n",
    "# Sint velit eveniet. Rerum atque repellat voluptatem quia rerum. Numquam excepturi\n",
    "# beatae sint laudantium consequatur. Magni occaecati itaque sint et sit tempore. Nesciunt\n",
    "# amet quidem. Iusto deleniti cum autem ad quia aperiam.\n",
    "# A consectetur quos aliquam. In iste aliquid et aut similique suscipit. Consequatur qui\n",
    "# quaerat iste minus hic expedita. Consequuntur error magni et laboriosam. Aut aspernatur\n",
    "# voluptatem sit aliquam. Dolores voluptatum est.\n",
    "# Aut molestias et maxime. Fugit autem facilis quos vero. Eius quibusdam possimus est.\n",
    "# Ea quaerat et quisquam. Deleniti sunt quam. Adipisci consequatur id in occaecati.\n",
    "# Et sint et. Ut ducimus quod nemo ab voluptatum."
   ]
  },
  {
   "cell_type": "code",
   "execution_count": 11,
   "metadata": {},
   "outputs": [
    {
     "name": "stdout",
     "output_type": "stream",
     "text": [
      "Tracy Rush\n",
      "Brandy Vargas\n",
      "Casey Johnson\n",
      "Regina Powell\n",
      "Stephen Henry\n",
      "Brenda Bennett\n",
      "David Butler\n",
      "Sean Moon\n",
      "Lee Velez\n",
      "Thomas Gilbert\n"
     ]
    }
   ],
   "source": [
    "for _ in range(10):\n",
    "    print(fake.name())"
   ]
  },
  {
   "cell_type": "code",
   "execution_count": 12,
   "metadata": {},
   "outputs": [
    {
     "data": {
      "text/plain": [
       "'in'"
      ]
     },
     "execution_count": 12,
     "metadata": {},
     "output_type": "execute_result"
    }
   ],
   "source": [
    "fake.word()"
   ]
  },
  {
   "cell_type": "code",
   "execution_count": 13,
   "metadata": {},
   "outputs": [
    {
     "data": {
      "text/plain": [
       "['commodi', 'odio', 'molestiae']"
      ]
     },
     "execution_count": 13,
     "metadata": {},
     "output_type": "execute_result"
    }
   ],
   "source": [
    "fake.words()"
   ]
  },
  {
   "cell_type": "code",
   "execution_count": null,
   "metadata": {
    "collapsed": true
   },
   "outputs": [],
   "source": []
  }
 ],
 "metadata": {
  "kernelspec": {
   "display_name": "Python 3",
   "language": "python",
   "name": "python3"
  },
  "language_info": {
   "codemirror_mode": {
    "name": "ipython",
    "version": 3
   },
   "file_extension": ".py",
   "mimetype": "text/x-python",
   "name": "python",
   "nbconvert_exporter": "python",
   "pygments_lexer": "ipython3",
   "version": "3.6.3"
  }
 },
 "nbformat": 4,
 "nbformat_minor": 2
}
