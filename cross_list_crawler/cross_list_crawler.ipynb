{
 "cells": [
  {
   "cell_type": "markdown",
   "metadata": {},
   "source": [
    "# 交叉查榜"
   ]
  },
  {
   "cell_type": "markdown",
   "metadata": {},
   "source": [
    "https://freshman.tw"
   ]
  },
  {
   "cell_type": "code",
   "execution_count": 60,
   "metadata": {
    "collapsed": false
   },
   "outputs": [],
   "source": [
    "import requests\n",
    "from bs4 import BeautifulSoup"
   ]
  },
  {
   "cell_type": "code",
   "execution_count": 61,
   "metadata": {
    "collapsed": false
   },
   "outputs": [],
   "source": [
    "# 106年國立臺灣大學數學系榜單\n",
    "\n",
    "# 001表示國立臺灣大學\n",
    "# 092表示國立臺灣大學之數學系編號\n",
    "\n",
    "url = 'https://freshman.tw/cross/106/001092'"
   ]
  },
  {
   "cell_type": "code",
   "execution_count": 62,
   "metadata": {
    "collapsed": true
   },
   "outputs": [],
   "source": [
    "request_headers = {\n",
    "    'User-Agent':'Mozilla/5.0 (Windows NT 10.0; Win64; x64) '\\\n",
    "                 'AppleWebKit/537.36 (KHTML, like Gecko) '\\\n",
    "                 'Chrome/61.0.3163.100 Safari/537.36'\n",
    "}"
   ]
  },
  {
   "cell_type": "code",
   "execution_count": 63,
   "metadata": {
    "collapsed": false
   },
   "outputs": [],
   "source": [
    "res = requests.get(url, headers=request_headers)"
   ]
  },
  {
   "cell_type": "code",
   "execution_count": 64,
   "metadata": {
    "collapsed": false
   },
   "outputs": [
    {
     "data": {
      "text/plain": [
       "<Response [200]>"
      ]
     },
     "execution_count": 64,
     "metadata": {},
     "output_type": "execute_result"
    }
   ],
   "source": [
    "res"
   ]
  },
  {
   "cell_type": "code",
   "execution_count": 65,
   "metadata": {
    "collapsed": false
   },
   "outputs": [
    {
     "name": "stdout",
     "output_type": "stream",
     "text": [
      "right\n"
     ]
    }
   ],
   "source": [
    "# 確認正取 1 之學號在 text 裡\n",
    "if '10163603' in res.text:\n",
    "    print('right')"
   ]
  },
  {
   "cell_type": "markdown",
   "metadata": {},
   "source": [
    "---"
   ]
  },
  {
   "cell_type": "code",
   "execution_count": 66,
   "metadata": {
    "collapsed": false
   },
   "outputs": [],
   "source": [
    "soup = BeautifulSoup(res.text, 'html.parser')"
   ]
  },
  {
   "cell_type": "code",
   "execution_count": 67,
   "metadata": {
    "collapsed": false
   },
   "outputs": [
    {
     "data": {
      "text/plain": [
       "<title>國立臺灣大學 數學系 - 106年大學交叉查榜 - 新鮮人查榜</title>"
      ]
     },
     "execution_count": 67,
     "metadata": {},
     "output_type": "execute_result"
    }
   ],
   "source": [
    "soup.title"
   ]
  },
  {
   "cell_type": "code",
   "execution_count": 68,
   "metadata": {
    "collapsed": false
   },
   "outputs": [],
   "source": [
    "even_lists = soup.find_all(\"tr\", class_=\"even showPhoto\")"
   ]
  },
  {
   "cell_type": "code",
   "execution_count": 70,
   "metadata": {
    "collapsed": true
   },
   "outputs": [],
   "source": [
    "odd_lists = soup.find_all(\"tr\", class_=\"odd showPhoto\")"
   ]
  },
  {
   "cell_type": "markdown",
   "metadata": {},
   "source": [
    "---"
   ]
  },
  {
   "cell_type": "markdown",
   "metadata": {},
   "source": [
    "Test to Find Name"
   ]
  },
  {
   "cell_type": "code",
   "execution_count": 72,
   "metadata": {
    "collapsed": false
   },
   "outputs": [],
   "source": [
    "even0 = soup.select(\"tr[class=\\\"even showPhoto\\\"]\")[0]"
   ]
  },
  {
   "cell_type": "code",
   "execution_count": 73,
   "metadata": {
    "collapsed": false
   },
   "outputs": [
    {
     "data": {
      "text/plain": [
       "<td rowspan=\"6\">吳雋毅<span style=\"display:none\">6</span></td>"
      ]
     },
     "execution_count": 73,
     "metadata": {},
     "output_type": "execute_result"
    }
   ],
   "source": [
    "even0.select(\"td\")[2]"
   ]
  },
  {
   "cell_type": "code",
   "execution_count": 74,
   "metadata": {
    "collapsed": true
   },
   "outputs": [],
   "source": [
    "evens = soup.select(\"tr[class=\\\"even showPhoto\\\"]\")"
   ]
  },
  {
   "cell_type": "code",
   "execution_count": 75,
   "metadata": {
    "collapsed": false
   },
   "outputs": [
    {
     "data": {
      "text/plain": [
       "42"
      ]
     },
     "execution_count": 75,
     "metadata": {},
     "output_type": "execute_result"
    }
   ],
   "source": [
    "len(evens)"
   ]
  },
  {
   "cell_type": "markdown",
   "metadata": {},
   "source": [
    "---"
   ]
  },
  {
   "cell_type": "code",
   "execution_count": 76,
   "metadata": {
    "collapsed": false
   },
   "outputs": [
    {
     "name": "stdout",
     "output_type": "stream",
     "text": [
      "<td rowspan=\"6\">吳雋毅<span style=\"display:none\">6</span></td>\n",
      "<td rowspan=\"6\">何承<span style=\"display:none\">6</span></td>\n",
      "<td rowspan=\"2\">馬宗儀<span style=\"display:none\">2</span></td>\n",
      "<td rowspan=\"4\">李昇峰<span style=\"display:none\">4</span></td>\n",
      "<td rowspan=\"3\">王晧任<span style=\"display:none\">3</span></td>\n",
      "<td rowspan=\"3\">李巧柔<span style=\"display:none\">3</span></td>\n",
      "<td rowspan=\"6\">洪晨翔<span style=\"display:none\">6</span></td>\n",
      "<td rowspan=\"4\">林泳霖<span style=\"display:none\">4</span></td>\n",
      "<td rowspan=\"3\">汪皓哲<span style=\"display:none\">3</span></td>\n",
      "<td rowspan=\"5\">陳捷<span style=\"display:none\">5</span></td>\n",
      "<td rowspan=\"5\">葉力嘉<span style=\"display:none\">5</span></td>\n",
      "<td rowspan=\"4\">董修華<span style=\"display:none\">4</span></td>\n",
      "<td rowspan=\"3\">黃品文<span style=\"display:none\">3</span></td>\n",
      "<td rowspan=\"3\">張皓鈞<span style=\"display:none\">3</span></td>\n",
      "<td rowspan=\"1\">林○宇<span style=\"display:none\">1</span></td>\n",
      "<td rowspan=\"6\">王彥鈞<span style=\"display:none\">6</span></td>\n",
      "<td rowspan=\"2\">黃才展<span style=\"display:none\">2</span></td>\n",
      "<td rowspan=\"4\">陳芃<span style=\"display:none\">4</span></td>\n",
      "<td rowspan=\"6\">林書年<span style=\"display:none\">6</span></td>\n",
      "<td rowspan=\"6\">沈郁鈞<span style=\"display:none\">6</span></td>\n",
      "<td rowspan=\"5\">鄭光淳<span style=\"display:none\">5</span></td>\n",
      "<td rowspan=\"3\"><span style=\"display:none\">3</span></td>\n",
      "<td rowspan=\"6\">白喬雨<span style=\"display:none\">6</span></td>\n",
      "<td rowspan=\"3\"><span style=\"display:none\">3</span></td>\n",
      "<td rowspan=\"1\"><span style=\"display:none\">1</span></td>\n",
      "<td rowspan=\"3\">陳冠廷<span style=\"display:none\">3</span></td>\n",
      "<td rowspan=\"2\"><span style=\"display:none\">2</span></td>\n",
      "<td rowspan=\"4\"><span style=\"display:none\">4</span></td>\n",
      "<td rowspan=\"5\">王弘德<span style=\"display:none\">5</span></td>\n",
      "<td rowspan=\"3\">呂理謙<span style=\"display:none\">3</span></td>\n",
      "<td rowspan=\"5\"><span style=\"display:none\">5</span></td>\n",
      "<td rowspan=\"2\">黃右瑾<span style=\"display:none\">2</span></td>\n",
      "<td rowspan=\"2\">陳柏嘉<span style=\"display:none\">2</span></td>\n",
      "<td rowspan=\"4\"><span style=\"display:none\">4</span></td>\n",
      "<td rowspan=\"5\">陳政瑞<span style=\"display:none\">5</span></td>\n",
      "<td rowspan=\"5\">吳國宏<span style=\"display:none\">5</span></td>\n",
      "<td rowspan=\"6\">石家榕<span style=\"display:none\">6</span></td>\n",
      "<td rowspan=\"2\">朱家慶<span style=\"display:none\">2</span></td>\n",
      "<td rowspan=\"6\">吳崇維<span style=\"display:none\">6</span></td>\n",
      "<td rowspan=\"2\"><span style=\"display:none\">2</span></td>\n",
      "<td rowspan=\"6\">郭宇軒<span style=\"display:none\">6</span></td>\n",
      "<td rowspan=\"6\">陳佑昕<span style=\"display:none\">6</span></td>\n"
     ]
    }
   ],
   "source": [
    "for i in range(0, len(evens)):\n",
    "    even0 = soup.select(\"tr[class=\\\"even showPhoto\\\"]\")[i]\n",
    "    print(even0.select(\"td\")[2])"
   ]
  },
  {
   "cell_type": "code",
   "execution_count": 82,
   "metadata": {
    "collapsed": false
   },
   "outputs": [
    {
     "ename": "AttributeError",
     "evalue": "'list' object has no attribute 'text'",
     "output_type": "error",
     "traceback": [
      "\u001b[0;31m---------------------------------------------------------------------------\u001b[0m",
      "\u001b[0;31mAttributeError\u001b[0m                            Traceback (most recent call last)",
      "\u001b[0;32m<ipython-input-82-b32017a856da>\u001b[0m in \u001b[0;36m<module>\u001b[0;34m()\u001b[0m\n\u001b[1;32m      1\u001b[0m \u001b[1;32mfor\u001b[0m \u001b[0mi\u001b[0m \u001b[1;32min\u001b[0m \u001b[0mrange\u001b[0m\u001b[1;33m(\u001b[0m\u001b[1;36m0\u001b[0m\u001b[1;33m,\u001b[0m \u001b[0mlen\u001b[0m\u001b[1;33m(\u001b[0m\u001b[0mevens\u001b[0m\u001b[1;33m)\u001b[0m\u001b[1;33m)\u001b[0m\u001b[1;33m:\u001b[0m\u001b[1;33m\u001b[0m\u001b[0m\n\u001b[1;32m      2\u001b[0m     \u001b[0meven0\u001b[0m \u001b[1;33m=\u001b[0m \u001b[0msoup\u001b[0m\u001b[1;33m.\u001b[0m\u001b[0mselect\u001b[0m\u001b[1;33m(\u001b[0m\u001b[1;34m\"tr[class=\\\"even showPhoto\\\"]\"\u001b[0m\u001b[1;33m)\u001b[0m\u001b[1;33m[\u001b[0m\u001b[0mi\u001b[0m\u001b[1;33m]\u001b[0m\u001b[1;33m\u001b[0m\u001b[0m\n\u001b[0;32m----> 3\u001b[0;31m     \u001b[0mprint\u001b[0m\u001b[1;33m(\u001b[0m\u001b[0meven0\u001b[0m\u001b[1;33m.\u001b[0m\u001b[0mselect\u001b[0m\u001b[1;33m(\u001b[0m\u001b[1;34m\"span[class=\\\"number\\\"]\"\u001b[0m\u001b[1;33m)\u001b[0m\u001b[1;33m.\u001b[0m\u001b[0mtext\u001b[0m\u001b[1;33m)\u001b[0m\u001b[1;33m\u001b[0m\u001b[0m\n\u001b[0m",
      "\u001b[0;31mAttributeError\u001b[0m: 'list' object has no attribute 'text'"
     ]
    }
   ],
   "source": [
    "for i in range(0, len(evens)):\n",
    "    even0 = soup.select(\"tr[class=\\\"even showPhoto\\\"]\")[i]\n",
    "    print(even0.select(\"span[class=\\\"number\\\"]\"))"
   ]
  },
  {
   "cell_type": "code",
   "execution_count": null,
   "metadata": {
    "collapsed": true
   },
   "outputs": [],
   "source": []
  }
 ],
 "metadata": {
  "kernelspec": {
   "display_name": "Python 3",
   "language": "python",
   "name": "python3"
  },
  "language_info": {
   "codemirror_mode": {
    "name": "ipython",
    "version": 3
   },
   "file_extension": ".py",
   "mimetype": "text/x-python",
   "name": "python",
   "nbconvert_exporter": "python",
   "pygments_lexer": "ipython3",
   "version": "3.6.0"
  }
 },
 "nbformat": 4,
 "nbformat_minor": 2
}
