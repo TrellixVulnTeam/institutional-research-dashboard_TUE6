{
 "cells": [
  {
   "cell_type": "markdown",
   "metadata": {},
   "source": [
    "# Data Visualization\n",
    "#### This notebook uses fake data to generate chart."
   ]
  },
  {
   "cell_type": "markdown",
   "metadata": {},
   "source": [
    "## Bokeh"
   ]
  },
  {
   "cell_type": "markdown",
   "metadata": {},
   "source": [
    "Bokeh is a Python interactive visualization library that targets modern web browsers for presentation.\n",
    "\n",
    "https://bokeh.pydata.org/en/latest/"
   ]
  },
  {
   "cell_type": "markdown",
   "metadata": {},
   "source": [
    "**Tutorial**\n",
    "\n",
    "http://blog.infographics.tw/2016/04/interactive-visualization-with-bokeh-and-python/"
   ]
  },
  {
   "cell_type": "code",
   "execution_count": 10,
   "metadata": {},
   "outputs": [
    {
     "name": "stdout",
     "output_type": "stream",
     "text": [
      "Name: bokeh\n",
      "Version: 0.12.10\n",
      "Summary: Interactive plots and applications in the browser from Python\n",
      "Home-page: http://github.com/bokeh/bokeh\n",
      "Author: Anaconda\n",
      "Author-email: info@anaconda.com\n",
      "License: New BSD\n",
      "Location: c:\\programdata\\anaconda3\\lib\\site-packages\n",
      "Requires: six, PyYAML, python-dateutil, Jinja2, numpy, tornado\n"
     ]
    }
   ],
   "source": [
    "!pip show bokeh\n",
    "\n",
    "# Version: 0.12.10"
   ]
  },
  {
   "cell_type": "code",
   "execution_count": 5,
   "metadata": {
    "collapsed": true
   },
   "outputs": [],
   "source": [
    "import bokeh"
   ]
  },
  {
   "cell_type": "code",
   "execution_count": 1,
   "metadata": {
    "collapsed": true
   },
   "outputs": [],
   "source": [
    "from bokeh.plotting import figure, output_file, show\n",
    "\n",
    "output_file(\"out.html\")\n",
    "\n",
    "p = figure()\n",
    "p.line([1,2,3,4,5],[5,4,3,2,1])\n",
    "\n",
    "show(p)"
   ]
  },
  {
   "cell_type": "markdown",
   "metadata": {},
   "source": [
    "1. bokeh.model：製作圖表的基本元素，例如軸線、形狀等等。用來打造各種元件。\n",
    "2. bokeh.plotting：為我們處理掉一些基本細節（例如格點與軸線），但保留客製化的彈性。\n",
    "3. bokeh.charts：直接使用各種完整圖表，例如長條圖、盒鬚圖等等。\n",
    "    * **[Deprecated](https://bokeh.github.io/blog/2017/6/13/release-0-12-6/)**\n",
    "    * bokeh.charts.Bar：長條圖\n",
    "    * bokeh.charts.BoxPlot：盒鬚圖\n",
    "    * bokeh.charts.HeatMap：熱圖\n",
    "    * bokeh.charts.Donut：甜甜圈圖"
   ]
  },
  {
   "cell_type": "code",
   "execution_count": 6,
   "metadata": {},
   "outputs": [
    {
     "ename": "ModuleNotFoundError",
     "evalue": "No module named 'bokeh.charts'",
     "output_type": "error",
     "traceback": [
      "\u001b[1;31m---------------------------------------------------------------------------\u001b[0m",
      "\u001b[1;31mModuleNotFoundError\u001b[0m                       Traceback (most recent call last)",
      "\u001b[1;32m<ipython-input-6-d99254b8f07c>\u001b[0m in \u001b[0;36m<module>\u001b[1;34m()\u001b[0m\n\u001b[1;32m----> 1\u001b[1;33m \u001b[1;32mfrom\u001b[0m \u001b[0mbokeh\u001b[0m\u001b[1;33m.\u001b[0m\u001b[0mcharts\u001b[0m \u001b[1;32mimport\u001b[0m \u001b[0mDonut\u001b[0m\u001b[1;33m,\u001b[0m \u001b[0mshow\u001b[0m\u001b[1;33m,\u001b[0m \u001b[0moutput_file\u001b[0m\u001b[1;33m\u001b[0m\u001b[0m\n\u001b[0m\u001b[0;32m      2\u001b[0m \u001b[1;33m\u001b[0m\u001b[0m\n\u001b[0;32m      3\u001b[0m \u001b[0moutput_file\u001b[0m\u001b[1;33m(\u001b[0m\u001b[1;34m'donut.html'\u001b[0m\u001b[1;33m)\u001b[0m\u001b[1;33m\u001b[0m\u001b[0m\n\u001b[0;32m      4\u001b[0m \u001b[0mdonut\u001b[0m \u001b[1;33m=\u001b[0m \u001b[0mDonut\u001b[0m\u001b[1;33m(\u001b[0m\u001b[1;33m[\u001b[0m\u001b[1;33m[\u001b[0m\u001b[1;36m2.\u001b[0m\u001b[1;33m,\u001b[0m \u001b[1;36m5.\u001b[0m\u001b[1;33m,\u001b[0m \u001b[1;36m3.\u001b[0m\u001b[1;33m]\u001b[0m\u001b[1;33m,\u001b[0m \u001b[1;33m[\u001b[0m\u001b[1;36m4.\u001b[0m\u001b[1;33m,\u001b[0m \u001b[1;36m1.\u001b[0m\u001b[1;33m,\u001b[0m \u001b[1;36m4.\u001b[0m\u001b[1;33m]\u001b[0m\u001b[1;33m,\u001b[0m \u001b[1;33m[\u001b[0m\u001b[1;36m6.\u001b[0m\u001b[1;33m,\u001b[0m \u001b[1;36m4.\u001b[0m\u001b[1;33m,\u001b[0m \u001b[1;36m3.\u001b[0m\u001b[1;33m]\u001b[0m\u001b[1;33m]\u001b[0m\u001b[1;33m,\u001b[0m \u001b[1;33m[\u001b[0m\u001b[1;34m'cpu1'\u001b[0m\u001b[1;33m,\u001b[0m \u001b[1;34m'cpu2'\u001b[0m\u001b[1;33m,\u001b[0m \u001b[1;34m'cpu3'\u001b[0m\u001b[1;33m]\u001b[0m\u001b[1;33m)\u001b[0m\u001b[1;33m\u001b[0m\u001b[0m\n\u001b[0;32m      5\u001b[0m \u001b[1;33m\u001b[0m\u001b[0m\n",
      "\u001b[1;31mModuleNotFoundError\u001b[0m: No module named 'bokeh.charts'"
     ]
    }
   ],
   "source": [
    "# boekh.charts is deprecated\n",
    "\n",
    "# from bokeh.charts import Donut, show, output_file\n",
    "\n",
    "# output_file('donut.html')\n",
    "# donut = Donut([[2., 5., 3.], [4., 1., 4.], [6., 4., 3.]], ['cpu1', 'cpu2', 'cpu3'])\n",
    "\n",
    "# show(donut)"
   ]
  },
  {
   "cell_type": "markdown",
   "metadata": {
    "collapsed": true
   },
   "source": [
    "---"
   ]
  },
  {
   "cell_type": "markdown",
   "metadata": {},
   "source": [
    "## Faker"
   ]
  },
  {
   "cell_type": "markdown",
   "metadata": {},
   "source": [
    "Faker is a Python package that generates fake data for you.\n",
    "\n",
    "https://github.com/joke2k/faker"
   ]
  },
  {
   "cell_type": "code",
   "execution_count": 1,
   "metadata": {},
   "outputs": [
    {
     "name": "stdout",
     "output_type": "stream",
     "text": [
      "Requirement already satisfied: Faker in c:\\programdata\\anaconda3\\lib\\site-packages\n",
      "Requirement already satisfied: six in c:\\programdata\\anaconda3\\lib\\site-packages (from Faker)\n",
      "Requirement already satisfied: python-dateutil>=2.4 in c:\\programdata\\anaconda3\\lib\\site-packages (from Faker)\n",
      "Requirement already satisfied: text-unidecode in c:\\programdata\\anaconda3\\lib\\site-packages (from Faker)\n"
     ]
    }
   ],
   "source": [
    "!pip install Faker"
   ]
  },
  {
   "cell_type": "code",
   "execution_count": 2,
   "metadata": {},
   "outputs": [
    {
     "data": {
      "text/plain": [
       "'Molestiae totam facilis mollitia adipisci. Sunt dolorum iure quo. Dolorum iusto quidem laborum adipisci.'"
      ]
     },
     "execution_count": 2,
     "metadata": {},
     "output_type": "execute_result"
    }
   ],
   "source": [
    "from faker import Faker\n",
    "fake = Faker()\n",
    "\n",
    "fake.name()\n",
    "# 'Lucy Cechtelar'\n",
    "\n",
    "fake.address()\n",
    "# \"426 Jordy Lodge\n",
    "#  Cartwrightshire, SC 88120-6700\"\n",
    "\n",
    "fake.text()\n",
    "# Sint velit eveniet. Rerum atque repellat voluptatem quia rerum. Numquam excepturi\n",
    "# beatae sint laudantium consequatur. Magni occaecati itaque sint et sit tempore. Nesciunt\n",
    "# amet quidem. Iusto deleniti cum autem ad quia aperiam.\n",
    "# A consectetur quos aliquam. In iste aliquid et aut similique suscipit. Consequatur qui\n",
    "# quaerat iste minus hic expedita. Consequuntur error magni et laboriosam. Aut aspernatur\n",
    "# voluptatem sit aliquam. Dolores voluptatum est.\n",
    "# Aut molestias et maxime. Fugit autem facilis quos vero. Eius quibusdam possimus est.\n",
    "# Ea quaerat et quisquam. Deleniti sunt quam. Adipisci consequatur id in occaecati.\n",
    "# Et sint et. Ut ducimus quod nemo ab voluptatum."
   ]
  },
  {
   "cell_type": "code",
   "execution_count": 4,
   "metadata": {},
   "outputs": [
    {
     "name": "stdout",
     "output_type": "stream",
     "text": [
      "Tiffany Howell\n",
      "Michael Kerr\n",
      "Christina Patterson\n",
      "Tina Harper\n",
      "Heidi Freeman\n",
      "Joseph Leach\n",
      "Whitney Johnson\n",
      "Patrick Hicks\n",
      "Allison Rodgers\n",
      "Steve Cruz\n"
     ]
    }
   ],
   "source": [
    "for _ in range(10):\n",
    "    print(fake.name())"
   ]
  },
  {
   "cell_type": "code",
   "execution_count": 5,
   "metadata": {},
   "outputs": [
    {
     "data": {
      "text/plain": [
       "'esse'"
      ]
     },
     "execution_count": 5,
     "metadata": {},
     "output_type": "execute_result"
    }
   ],
   "source": [
    "fake.word()"
   ]
  },
  {
   "cell_type": "code",
   "execution_count": 6,
   "metadata": {},
   "outputs": [
    {
     "data": {
      "text/plain": [
       "['harum', 'corporis', 'sint']"
      ]
     },
     "execution_count": 6,
     "metadata": {},
     "output_type": "execute_result"
    }
   ],
   "source": [
    "fake.words()"
   ]
  },
  {
   "cell_type": "code",
   "execution_count": null,
   "metadata": {
    "collapsed": true
   },
   "outputs": [],
   "source": []
  }
 ],
 "metadata": {
  "kernelspec": {
   "display_name": "Python 3",
   "language": "python",
   "name": "python3"
  },
  "language_info": {
   "codemirror_mode": {
    "name": "ipython",
    "version": 3
   },
   "file_extension": ".py",
   "mimetype": "text/x-python",
   "name": "python",
   "nbconvert_exporter": "python",
   "pygments_lexer": "ipython3",
   "version": "3.6.3"
  }
 },
 "nbformat": 4,
 "nbformat_minor": 2
}
