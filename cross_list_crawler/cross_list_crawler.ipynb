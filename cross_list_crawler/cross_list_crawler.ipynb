{
 "cells": [
  {
   "cell_type": "markdown",
   "metadata": {},
   "source": [
    "# 交叉查榜"
   ]
  },
  {
   "cell_type": "markdown",
   "metadata": {},
   "source": [
    "https://freshman.tw"
   ]
  },
  {
   "cell_type": "code",
   "execution_count": 1,
   "metadata": {
    "collapsed": false
   },
   "outputs": [],
   "source": [
    "import requests\n",
    "from bs4 import BeautifulSoup"
   ]
  },
  {
   "cell_type": "code",
   "execution_count": 2,
   "metadata": {
    "collapsed": false
   },
   "outputs": [],
   "source": [
    "# 106年國立臺灣大學數學系榜單\n",
    "\n",
    "# 001表示國立臺灣大學\n",
    "# 092表示國立臺灣大學之數學系編號\n",
    "\n",
    "url = 'https://freshman.tw/cross/106/001092'"
   ]
  },
  {
   "cell_type": "code",
   "execution_count": 3,
   "metadata": {
    "collapsed": true
   },
   "outputs": [],
   "source": [
    "request_headers = {\n",
    "    'User-Agent':'Mozilla/5.0 (Windows NT 10.0; Win64; x64) '\\\n",
    "                 'AppleWebKit/537.36 (KHTML, like Gecko) '\\\n",
    "                 'Chrome/61.0.3163.100 Safari/537.36'\n",
    "}"
   ]
  },
  {
   "cell_type": "code",
   "execution_count": 4,
   "metadata": {
    "collapsed": false
   },
   "outputs": [],
   "source": [
    "res = requests.get(url, headers=request_headers)"
   ]
  },
  {
   "cell_type": "code",
   "execution_count": 5,
   "metadata": {
    "collapsed": false
   },
   "outputs": [
    {
     "data": {
      "text/plain": [
       "<Response [200]>"
      ]
     },
     "execution_count": 5,
     "metadata": {},
     "output_type": "execute_result"
    }
   ],
   "source": [
    "res"
   ]
  },
  {
   "cell_type": "code",
   "execution_count": 6,
   "metadata": {
    "collapsed": false
   },
   "outputs": [
    {
     "name": "stdout",
     "output_type": "stream",
     "text": [
      "right\n"
     ]
    }
   ],
   "source": [
    "# 確認正取 1 之學號在 text 裡\n",
    "if '10163603' in res.text:\n",
    "    print('right')"
   ]
  },
  {
   "cell_type": "markdown",
   "metadata": {},
   "source": [
    "---"
   ]
  },
  {
   "cell_type": "code",
   "execution_count": 7,
   "metadata": {
    "collapsed": false
   },
   "outputs": [],
   "source": [
    "soup = BeautifulSoup(res.text, 'html.parser')"
   ]
  },
  {
   "cell_type": "code",
   "execution_count": 8,
   "metadata": {
    "collapsed": false
   },
   "outputs": [
    {
     "data": {
      "text/plain": [
       "<title>國立臺灣大學 數學系 - 106年大學交叉查榜 - 新鮮人查榜</title>"
      ]
     },
     "execution_count": 8,
     "metadata": {},
     "output_type": "execute_result"
    }
   ],
   "source": [
    "soup.title"
   ]
  },
  {
   "cell_type": "code",
   "execution_count": 9,
   "metadata": {
    "collapsed": false
   },
   "outputs": [],
   "source": [
    "even_lists = soup.find_all(\"tr\", class_=\"even showPhoto\")"
   ]
  },
  {
   "cell_type": "code",
   "execution_count": 10,
   "metadata": {
    "collapsed": true
   },
   "outputs": [],
   "source": [
    "odd_lists = soup.find_all(\"tr\", class_=\"odd showPhoto\")"
   ]
  },
  {
   "cell_type": "markdown",
   "metadata": {},
   "source": [
    "---"
   ]
  },
  {
   "cell_type": "markdown",
   "metadata": {},
   "source": [
    "Test to Find Name"
   ]
  },
  {
   "cell_type": "code",
   "execution_count": 11,
   "metadata": {
    "collapsed": false
   },
   "outputs": [],
   "source": [
    "even0 = soup.select(\"tr[class=\\\"even showPhoto\\\"]\")[0]"
   ]
  },
  {
   "cell_type": "code",
   "execution_count": 12,
   "metadata": {
    "collapsed": false
   },
   "outputs": [
    {
     "data": {
      "text/plain": [
       "<td rowspan=\"6\">吳雋毅<span style=\"display:none\">6</span></td>"
      ]
     },
     "execution_count": 12,
     "metadata": {},
     "output_type": "execute_result"
    }
   ],
   "source": [
    "even0.select(\"td\")[2]"
   ]
  },
  {
   "cell_type": "code",
   "execution_count": 13,
   "metadata": {
    "collapsed": true
   },
   "outputs": [],
   "source": [
    "evens = soup.select(\"tr[class=\\\"even showPhoto\\\"]\")"
   ]
  },
  {
   "cell_type": "code",
   "execution_count": 14,
   "metadata": {
    "collapsed": false
   },
   "outputs": [
    {
     "data": {
      "text/plain": [
       "42"
      ]
     },
     "execution_count": 14,
     "metadata": {},
     "output_type": "execute_result"
    }
   ],
   "source": [
    "len(evens)"
   ]
  },
  {
   "cell_type": "markdown",
   "metadata": {},
   "source": [
    "---"
   ]
  },
  {
   "cell_type": "code",
   "execution_count": 24,
   "metadata": {
    "collapsed": false
   },
   "outputs": [
    {
     "name": "stdout",
     "output_type": "stream",
     "text": [
      "<td rowspan=\"6\">吳雋毅<span style=\"display:none\">6</span></td>\n",
      "<td rowspan=\"6\">何承<span style=\"display:none\">6</span></td>\n",
      "<td rowspan=\"2\">馬宗儀<span style=\"display:none\">2</span></td>\n",
      "<td rowspan=\"4\">李昇峰<span style=\"display:none\">4</span></td>\n",
      "<td rowspan=\"3\">王晧任<span style=\"display:none\">3</span></td>\n",
      "<td rowspan=\"3\">李巧柔<span style=\"display:none\">3</span></td>\n",
      "<td rowspan=\"6\">洪晨翔<span style=\"display:none\">6</span></td>\n",
      "<td rowspan=\"4\">林泳霖<span style=\"display:none\">4</span></td>\n",
      "<td rowspan=\"3\">汪皓哲<span style=\"display:none\">3</span></td>\n",
      "<td rowspan=\"5\">陳捷<span style=\"display:none\">5</span></td>\n",
      "<td rowspan=\"5\">葉力嘉<span style=\"display:none\">5</span></td>\n",
      "<td rowspan=\"4\">董修華<span style=\"display:none\">4</span></td>\n",
      "<td rowspan=\"3\">黃品文<span style=\"display:none\">3</span></td>\n",
      "<td rowspan=\"3\">張皓鈞<span style=\"display:none\">3</span></td>\n",
      "<td rowspan=\"1\">林○宇<span style=\"display:none\">1</span></td>\n",
      "<td rowspan=\"6\">王彥鈞<span style=\"display:none\">6</span></td>\n",
      "<td rowspan=\"2\">黃才展<span style=\"display:none\">2</span></td>\n",
      "<td rowspan=\"4\">陳芃<span style=\"display:none\">4</span></td>\n",
      "<td rowspan=\"6\">林書年<span style=\"display:none\">6</span></td>\n",
      "<td rowspan=\"6\">沈郁鈞<span style=\"display:none\">6</span></td>\n",
      "<td rowspan=\"5\">鄭光淳<span style=\"display:none\">5</span></td>\n",
      "<td rowspan=\"3\"><span style=\"display:none\">3</span></td>\n",
      "<td rowspan=\"6\">白喬雨<span style=\"display:none\">6</span></td>\n",
      "<td rowspan=\"3\"><span style=\"display:none\">3</span></td>\n",
      "<td rowspan=\"1\"><span style=\"display:none\">1</span></td>\n",
      "<td rowspan=\"3\">陳冠廷<span style=\"display:none\">3</span></td>\n",
      "<td rowspan=\"2\"><span style=\"display:none\">2</span></td>\n",
      "<td rowspan=\"4\"><span style=\"display:none\">4</span></td>\n",
      "<td rowspan=\"5\">王弘德<span style=\"display:none\">5</span></td>\n",
      "<td rowspan=\"3\">呂理謙<span style=\"display:none\">3</span></td>\n",
      "<td rowspan=\"5\"><span style=\"display:none\">5</span></td>\n",
      "<td rowspan=\"2\">黃右瑾<span style=\"display:none\">2</span></td>\n",
      "<td rowspan=\"2\">陳柏嘉<span style=\"display:none\">2</span></td>\n",
      "<td rowspan=\"4\"><span style=\"display:none\">4</span></td>\n",
      "<td rowspan=\"5\">陳政瑞<span style=\"display:none\">5</span></td>\n",
      "<td rowspan=\"5\">吳國宏<span style=\"display:none\">5</span></td>\n",
      "<td rowspan=\"6\">石家榕<span style=\"display:none\">6</span></td>\n",
      "<td rowspan=\"2\">朱家慶<span style=\"display:none\">2</span></td>\n",
      "<td rowspan=\"6\">吳崇維<span style=\"display:none\">6</span></td>\n",
      "<td rowspan=\"2\"><span style=\"display:none\">2</span></td>\n",
      "<td rowspan=\"6\">郭宇軒<span style=\"display:none\">6</span></td>\n",
      "<td rowspan=\"6\">陳佑昕<span style=\"display:none\">6</span></td>\n"
     ]
    }
   ],
   "source": [
    "for i in range(0, len(evens)):\n",
    "    even0 = soup.select(\"tr[class=\\\"even showPhoto\\\"]\")[i]\n",
    "    print(even0.select(\"td\")[2])"
   ]
  },
  {
   "cell_type": "code",
   "execution_count": 20,
   "metadata": {
    "collapsed": false
   },
   "outputs": [
    {
     "name": "stdout",
     "output_type": "stream",
     "text": [
      "10163603\n",
      "10096036\n",
      "10074010\n",
      "10270525\n",
      "10010328\n",
      "10018829\n",
      "10271713\n",
      "10203803\n",
      "10229719\n",
      "10036225\n",
      "10023705\n",
      "10165003\n",
      "10161639\n",
      "10106741\n",
      "NTU0600591\n",
      "10022717\n",
      "10008009\n",
      "10010539\n",
      "10010927\n",
      "10018025\n",
      "10021113\n",
      "10023703\n",
      "10033118\n",
      "10033216\n",
      "10034030\n",
      "10034738\n",
      "10064821\n",
      "10067536\n",
      "10089732\n",
      "10095430\n",
      "10102922\n",
      "10115207\n",
      "10161727\n",
      "10162129\n",
      "10165115\n",
      "10175832\n",
      "10185106\n",
      "10200714\n",
      "10201605\n",
      "10229235\n",
      "10246004\n",
      "10295617\n"
     ]
    }
   ],
   "source": [
    "for i in range(0, len(evens)):\n",
    "    even0 = soup.select(\"tr[class=\\\"even showPhoto\\\"]\")[i]\n",
    "    print(even0.select(\"span[class=\\\"number\\\"]\")[0].text)"
   ]
  },
  {
   "cell_type": "code",
   "execution_count": null,
   "metadata": {
    "collapsed": true
   },
   "outputs": [],
   "source": []
  }
 ],
 "metadata": {
  "kernelspec": {
   "display_name": "Python 3",
   "language": "python",
   "name": "python3"
  },
  "language_info": {
   "codemirror_mode": {
    "name": "ipython",
    "version": 3
   },
   "file_extension": ".py",
   "mimetype": "text/x-python",
   "name": "python",
   "nbconvert_exporter": "python",
   "pygments_lexer": "ipython3",
   "version": "3.6.0"
  }
 },
 "nbformat": 4,
 "nbformat_minor": 2
}
